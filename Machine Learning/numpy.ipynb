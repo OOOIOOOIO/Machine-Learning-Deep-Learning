{
 "cells": [
  {
   "cell_type": "code",
   "execution_count": 2,
   "id": "accessible-involvement",
   "metadata": {},
   "outputs": [],
   "source": [
    "# numpy 사용하기\n",
    "import numpy as np"
   ]
  },
  {
   "cell_type": "code",
   "execution_count": 3,
   "id": "black-swimming",
   "metadata": {},
   "outputs": [
    {
     "name": "stdout",
     "output_type": "stream",
     "text": [
      "[1, 2, 3, 4, 5]\n",
      "<class 'list'>\n"
     ]
    }
   ],
   "source": [
    "data1=[1, 2, 3, 4, 5]\n",
    "print(data1)\n",
    "print(type(data1))"
   ]
  },
  {
   "cell_type": "code",
   "execution_count": 19,
   "id": "reliable-cameroon",
   "metadata": {},
   "outputs": [
    {
     "data": {
      "text/plain": [
       "[1, 2, 3, 3.5, 4]"
      ]
     },
     "execution_count": 19,
     "metadata": {},
     "output_type": "execute_result"
    }
   ],
   "source": [
    "data2 = [1, 2, 3, 3.5, 4]\n",
    "data2"
   ]
  },
  {
   "cell_type": "code",
   "execution_count": 6,
   "id": "arranged-sacrifice",
   "metadata": {},
   "outputs": [
    {
     "name": "stdout",
     "output_type": "stream",
     "text": [
      "[1 2 3 4 5]\n",
      "<class 'numpy.ndarray'>\n"
     ]
    }
   ],
   "source": [
    "# numpy를 이용하기 위해 array 정의하기\n",
    "\n",
    "# 1. 위에서 만든 python list를 이용\n",
    "\n",
    "arr1 = np.array(data1)\n",
    "print(arr1)\n",
    "print(type(arr1))"
   ]
  },
  {
   "cell_type": "code",
   "execution_count": 7,
   "id": "incorporated-ranch",
   "metadata": {},
   "outputs": [
    {
     "data": {
      "text/plain": [
       "(5,)"
      ]
     },
     "execution_count": 7,
     "metadata": {},
     "output_type": "execute_result"
    }
   ],
   "source": [
    "# array의 형태(크기)를 확인할 수 있다.\n",
    "arr1.shape"
   ]
  },
  {
   "cell_type": "code",
   "execution_count": 15,
   "id": "quick-yorkshire",
   "metadata": {},
   "outputs": [
    {
     "name": "stdout",
     "output_type": "stream",
     "text": [
      "float64\n",
      "int32\n"
     ]
    }
   ],
   "source": [
    "# array의 자료형을 확인할 수 있다.\n",
    "\n",
    "arr2 = np.array(data2)\n",
    "print(arr2.dtype)\n",
    "print(arr1.dtype)"
   ]
  },
  {
   "cell_type": "code",
   "execution_count": 20,
   "id": "future-singing",
   "metadata": {},
   "outputs": [
    {
     "data": {
      "text/plain": [
       "array([1. , 2. , 3. , 3.5, 4. ])"
      ]
     },
     "execution_count": 20,
     "metadata": {},
     "output_type": "execute_result"
    }
   ],
   "source": [
    "arr3 = np.array(data2)\n",
    "arr3\n"
   ]
  },
  {
   "cell_type": "code",
   "execution_count": 21,
   "id": "creative-andorra",
   "metadata": {},
   "outputs": [
    {
     "data": {
      "text/plain": [
       "(5,)"
      ]
     },
     "execution_count": 21,
     "metadata": {},
     "output_type": "execute_result"
    }
   ],
   "source": [
    "arr3.shape"
   ]
  },
  {
   "cell_type": "code",
   "execution_count": 24,
   "id": "logical-lightweight",
   "metadata": {},
   "outputs": [
    {
     "data": {
      "text/plain": [
       "array([[ 1,  2,  3],\n",
       "       [ 4,  5,  6],\n",
       "       [ 7,  8,  9],\n",
       "       [10, 11, 12]])"
      ]
     },
     "execution_count": 24,
     "metadata": {},
     "output_type": "execute_result"
    }
   ],
   "source": [
    "# 2차원 배열 생성\n",
    "arr4 = np.array([[1, 2, 3], [4, 5, 6], [7, 8, 9], [10, 11, 12]])\n",
    "arr4"
   ]
  },
  {
   "cell_type": "code",
   "execution_count": 25,
   "id": "romantic-vulnerability",
   "metadata": {},
   "outputs": [
    {
     "data": {
      "text/plain": [
       "(4, 3)"
      ]
     },
     "execution_count": 25,
     "metadata": {},
     "output_type": "execute_result"
    }
   ],
   "source": [
    "arr4.shape"
   ]
  },
  {
   "cell_type": "markdown",
   "id": "objective-absorption",
   "metadata": {},
   "source": [
    "<h3>numpy shape</h3>\n",
    "\n",
    "numpy에서는 해당 aray의 크기를 알 수 있다.\n",
    "shape을 확인함으로써 몇개의 데이터가 있는지, 몇 차원으로 존재하는지 등을 확인할 수 있다.<br>\n",
    "위에서 arr1.shape의 결과는 (5,)로써, 1차원의 데이터이며 총 5라는 크기를 갖고 있음을 알 수 있다.<br>\n",
    "arr4.shape의 결과는 (4,3)으로써, 2차원의 데이터이며 4 * 3 크기를 갖고 있는 array이다.<br>\n",
    "\n",
    "<h3>numpy 자료형</h3>\n",
    "\n",
    "arr1이나 arr2는 int64라는 자료형을 갖는 것에 반해 arr3은 float64라는 자료형을 갖는다.<br>\n",
    "이는 arr3내부 데이터를 살펴보면 3.5라는 실수형 데이터를 갖기 때문임을 알 수 있다.<br>\n",
    "numpy에서 사용되는 자료형은 아래와 같다.\n",
    "\n",
    "- 부호가 있는 정수 int(8, 16, 32, 64)\n",
    "- 부호가 없는 정수 uint(8, 16, 32, 54)\n",
    "- 실수 float(16, 32, 64, 128)\n",
    "- 복소수 complex(64, 128, 256)\n",
    "- 불린 bool\n",
    "- 문자열 string_\n",
    "- 오브젝트 object\n",
    "- 유니코드 unicode"
   ]
  },
  {
   "cell_type": "markdown",
   "id": "coastal-exploration",
   "metadata": {},
   "source": [
    "<h2>2-1. np.zeros(), np.ones, np.arange() 함수</h2>\n",
    "\n",
    "numpy에서 array를 정의할 때 사용되는 함수들이다.\n",
    "아래 실습을 통해 각각이 어떻게 다른지 살펴보자."
   ]
  },
  {
   "cell_type": "code",
   "execution_count": 27,
   "id": "stopped-chain",
   "metadata": {},
   "outputs": [
    {
     "data": {
      "text/plain": [
       "array([0., 0., 0., 0., 0., 0., 0., 0., 0., 0.])"
      ]
     },
     "execution_count": 27,
     "metadata": {},
     "output_type": "execute_result"
    }
   ],
   "source": [
    "# np.zeros() : 인자로 받는 크기 만큼, 모든 요소가 0인 array를 만든다. \n",
    "\n",
    "np.zeros(10)"
   ]
  },
  {
   "cell_type": "code",
   "execution_count": 30,
   "id": "distant-aquatic",
   "metadata": {},
   "outputs": [
    {
     "data": {
      "text/plain": [
       "array([[0., 0., 0., 0., 0.],\n",
       "       [0., 0., 0., 0., 0.],\n",
       "       [0., 0., 0., 0., 0.]])"
      ]
     },
     "execution_count": 30,
     "metadata": {},
     "output_type": "execute_result"
    }
   ],
   "source": [
    "# 2차원 행렬 생성\n",
    "np.zeros((3, 5))"
   ]
  },
  {
   "cell_type": "code",
   "execution_count": 31,
   "id": "regular-distribution",
   "metadata": {},
   "outputs": [
    {
     "data": {
      "text/plain": [
       "array([1., 1., 1., 1., 1., 1., 1., 1., 1.])"
      ]
     },
     "execution_count": 31,
     "metadata": {},
     "output_type": "execute_result"
    }
   ],
   "source": [
    "# np.ones() : 인자로 받는 크기 만큼, 모든 요소가 1인 array를 만든다\n",
    "\n",
    "np.ones(9)"
   ]
  },
  {
   "cell_type": "code",
   "execution_count": 32,
   "id": "global-traffic",
   "metadata": {},
   "outputs": [
    {
     "data": {
      "text/plain": [
       "array([[1., 1., 1., 1., 1., 1., 1., 1., 1., 1.],\n",
       "       [1., 1., 1., 1., 1., 1., 1., 1., 1., 1.]])"
      ]
     },
     "execution_count": 32,
     "metadata": {},
     "output_type": "execute_result"
    }
   ],
   "source": [
    "# 2차원 행렬 생성\n",
    "\n",
    "np.ones((2, 10))"
   ]
  },
  {
   "cell_type": "code",
   "execution_count": 34,
   "id": "certified-second",
   "metadata": {},
   "outputs": [
    {
     "data": {
      "text/plain": [
       "array([0, 1, 2, 3, 4, 5, 6, 7, 8, 9])"
      ]
     },
     "execution_count": 34,
     "metadata": {},
     "output_type": "execute_result"
    }
   ],
   "source": [
    "# np.arrange() : 인자로 받는 값 만큼 1씩 증가하는 1차원 array를 만든다.\n",
    "# 이때 하나의 인자만 입력하면 0 ~ 입력한 인자의 값-1 이 생성되고 입력한 인자의 값 만큼의 크기를 가진다.\n",
    "\n",
    "# np.arange(a, b, c) : a ~ b-1까지 c 간격으로\n",
    "# np.arange(a, b) : a ~ b-1까지 1 간격으로\n",
    "# np.arange(a) : 0 ~ a-1까지\n",
    "\n",
    "np.arange(10)"
   ]
  },
  {
   "cell_type": "code",
   "execution_count": 38,
   "id": "protecting-essex",
   "metadata": {},
   "outputs": [
    {
     "data": {
      "text/plain": [
       "array([0, 2, 4, 6, 8])"
      ]
     },
     "execution_count": 38,
     "metadata": {},
     "output_type": "execute_result"
    }
   ],
   "source": [
    "np.arange(0, 10, 2)"
   ]
  },
  {
   "cell_type": "code",
   "execution_count": 39,
   "id": "stock-channels",
   "metadata": {},
   "outputs": [
    {
     "data": {
      "text/plain": [
       "array([3, 4, 5, 6, 7, 8, 9])"
      ]
     },
     "execution_count": 39,
     "metadata": {},
     "output_type": "execute_result"
    }
   ],
   "source": [
    "np.arange(3, 10)"
   ]
  },
  {
   "cell_type": "markdown",
   "id": "raised-lafayette",
   "metadata": {},
   "source": [
    "<h2>3. Array 연산 </h2>\n",
    "\n",
    "기본적으로 numpy에서 연산을 할 때 크기가 서로 동일한 array끼리 연산이 진행되며\n",
    "이때 같은 위치에 있는 요소들 끼리 연산이 진행된다."
   ]
  },
  {
   "cell_type": "code",
   "execution_count": 3,
   "id": "fleet-establishment",
   "metadata": {},
   "outputs": [
    {
     "data": {
      "text/plain": [
       "array([[1, 2, 3],\n",
       "       [4, 5, 6]])"
      ]
     },
     "execution_count": 3,
     "metadata": {},
     "output_type": "execute_result"
    }
   ],
   "source": [
    "arr1 = np.array([[1, 2 ,3], [4, 5, 6]])\n",
    "arr1"
   ]
  },
  {
   "cell_type": "code",
   "execution_count": 44,
   "id": "turkish-academy",
   "metadata": {},
   "outputs": [
    {
     "data": {
      "text/plain": [
       "(2, 3)"
      ]
     },
     "execution_count": 44,
     "metadata": {},
     "output_type": "execute_result"
    }
   ],
   "source": [
    "arr1.shape"
   ]
  },
  {
   "cell_type": "code",
   "execution_count": 45,
   "id": "applicable-brush",
   "metadata": {},
   "outputs": [
    {
     "data": {
      "text/plain": [
       "array([[10, 11, 12],\n",
       "       [13, 14, 15]])"
      ]
     },
     "execution_count": 45,
     "metadata": {},
     "output_type": "execute_result"
    }
   ],
   "source": [
    "arr2 = np.array([[10, 11, 12], [13, 14 ,15]])\n",
    "arr2"
   ]
  },
  {
   "cell_type": "code",
   "execution_count": 46,
   "id": "married-tracy",
   "metadata": {},
   "outputs": [
    {
     "data": {
      "text/plain": [
       "(2, 3)"
      ]
     },
     "execution_count": 46,
     "metadata": {},
     "output_type": "execute_result"
    }
   ],
   "source": [
    "arr2.shape"
   ]
  },
  {
   "cell_type": "code",
   "execution_count": 49,
   "id": "reported-movie",
   "metadata": {},
   "outputs": [
    {
     "name": "stdout",
     "output_type": "stream",
     "text": [
      "<class 'list'> <class 'list'>\n",
      "[1, 2, 3, 4, 5, 1, 2, 3, 3.5, 4]\n"
     ]
    }
   ],
   "source": [
    "# list일 경우 \n",
    "print(type(data1), type(data2))\n",
    "\n",
    "print(data1 + data2)"
   ]
  },
  {
   "cell_type": "markdown",
   "id": "ruled-travel",
   "metadata": {},
   "source": [
    "## 3-1. array 덧셈"
   ]
  },
  {
   "cell_type": "code",
   "execution_count": 50,
   "id": "swiss-block",
   "metadata": {},
   "outputs": [
    {
     "data": {
      "text/plain": [
       "array([[11, 13, 15],\n",
       "       [17, 19, 21]])"
      ]
     },
     "execution_count": 50,
     "metadata": {},
     "output_type": "execute_result"
    }
   ],
   "source": [
    "arr1 + arr2"
   ]
  },
  {
   "cell_type": "code",
   "execution_count": 51,
   "id": "fabulous-radius",
   "metadata": {},
   "outputs": [
    {
     "data": {
      "text/plain": [
       "array([[-9, -9, -9],\n",
       "       [-9, -9, -9]])"
      ]
     },
     "execution_count": 51,
     "metadata": {},
     "output_type": "execute_result"
    }
   ],
   "source": [
    "arr1 - arr2"
   ]
  },
  {
   "cell_type": "markdown",
   "id": "representative-carrier",
   "metadata": {},
   "source": [
    "## 3-3. array 곱셈\n",
    " \n",
    " 같은 위치의 요소끼리 곱한다."
   ]
  },
  {
   "cell_type": "code",
   "execution_count": 52,
   "id": "injured-charles",
   "metadata": {},
   "outputs": [
    {
     "data": {
      "text/plain": [
       "array([[10, 22, 36],\n",
       "       [52, 70, 90]])"
      ]
     },
     "execution_count": 52,
     "metadata": {},
     "output_type": "execute_result"
    }
   ],
   "source": [
    "arr1 * arr2"
   ]
  },
  {
   "cell_type": "markdown",
   "id": "transsexual-advocate",
   "metadata": {},
   "source": [
    "## 3-4. array 나눗셈\n",
    "\n",
    "마찬가지로 같은 위치의 요소로 나눈다."
   ]
  },
  {
   "cell_type": "code",
   "execution_count": 56,
   "id": "dominant-alloy",
   "metadata": {},
   "outputs": [
    {
     "name": "stdout",
     "output_type": "stream",
     "text": [
      "[[0.1        0.18181818 0.25      ]\n",
      " [0.30769231 0.35714286 0.4       ]]\n",
      "\n",
      "[[1 2 3]\n",
      " [4 5 6]]\n"
     ]
    }
   ],
   "source": [
    "print(arr1 / arr2)\n",
    "print()\n",
    "print(arr1 % arr2)"
   ]
  },
  {
   "cell_type": "markdown",
   "id": "increasing-disclaimer",
   "metadata": {},
   "source": [
    "## 3-5 array의 브로드캐스트\n",
    "\n",
    "위에서 array가 같은 크기를 가져야 서로 연산이 가능하다고 했지만, numpy에서는 브로드캐스트라는 기능을 제공한다.<br>\n",
    "브로드캐스트란, 서로 크기가 다른 array가 연산이 가능하게 하는 것이다."
   ]
  },
  {
   "cell_type": "code",
   "execution_count": 4,
   "id": "connected-speed",
   "metadata": {},
   "outputs": [
    {
     "data": {
      "text/plain": [
       "array([[1, 2, 3],\n",
       "       [4, 5, 6]])"
      ]
     },
     "execution_count": 4,
     "metadata": {},
     "output_type": "execute_result"
    }
   ],
   "source": [
    "arr1"
   ]
  },
  {
   "cell_type": "code",
   "execution_count": 58,
   "id": "collectible-theorem",
   "metadata": {},
   "outputs": [
    {
     "data": {
      "text/plain": [
       "(2, 3)"
      ]
     },
     "execution_count": 58,
     "metadata": {},
     "output_type": "execute_result"
    }
   ],
   "source": [
    "arr1.shape"
   ]
  },
  {
   "cell_type": "code",
   "execution_count": 7,
   "id": "satisfactory-divorce",
   "metadata": {},
   "outputs": [
    {
     "data": {
      "text/plain": [
       "array([10, 11, 12])"
      ]
     },
     "execution_count": 7,
     "metadata": {},
     "output_type": "execute_result"
    }
   ],
   "source": [
    "arr3 = np.array([10, 11, 12])\n",
    "arr3"
   ]
  },
  {
   "cell_type": "code",
   "execution_count": 61,
   "id": "cooked-academy",
   "metadata": {},
   "outputs": [
    {
     "data": {
      "text/plain": [
       "(3,)"
      ]
     },
     "execution_count": 61,
     "metadata": {},
     "output_type": "execute_result"
    }
   ],
   "source": [
    "arr3.shape"
   ]
  },
  {
   "cell_type": "code",
   "execution_count": 8,
   "id": "technological-pitch",
   "metadata": {},
   "outputs": [
    {
     "data": {
      "text/plain": [
       "array([[11, 13, 15],\n",
       "       [14, 16, 18]])"
      ]
     },
     "execution_count": 8,
     "metadata": {},
     "output_type": "execute_result"
    }
   ],
   "source": [
    "# 행 끼리 연산하며 열의 개수는 같아야한다.\n",
    "\n",
    "arr1 + arr3"
   ]
  },
  {
   "cell_type": "code",
   "execution_count": 64,
   "id": "painted-swiss",
   "metadata": {},
   "outputs": [
    {
     "data": {
      "text/plain": [
       "array([[10, 22, 36],\n",
       "       [40, 55, 72]])"
      ]
     },
     "execution_count": 64,
     "metadata": {},
     "output_type": "execute_result"
    }
   ],
   "source": [
    "arr1 * arr3"
   ]
  },
  {
   "cell_type": "markdown",
   "id": "ancient-bonus",
   "metadata": {},
   "source": [
    "위와 같이 서로 크기가 다른 arr1과 arr3의 연산이 가능하다.<br>\n",
    "연산 결과를 살펴보면 arr3이 [10, 11, 12] 에서 [[10, 11, 12], [10, 11, 12]]로 확장되어 계산되었음을 확인할 수 있다.<br>\n",
    "동일한 방식으로 하나의 array에 스칼라 연산도 가능하다."
   ]
  },
  {
   "cell_type": "code",
   "execution_count": 66,
   "id": "fresh-inventory",
   "metadata": {},
   "outputs": [
    {
     "data": {
      "text/plain": [
       "array([[10, 20, 30],\n",
       "       [40, 50, 60]])"
      ]
     },
     "execution_count": 66,
     "metadata": {},
     "output_type": "execute_result"
    }
   ],
   "source": [
    "arr1 * 10"
   ]
  },
  {
   "cell_type": "code",
   "execution_count": 67,
   "id": "turned-boring",
   "metadata": {},
   "outputs": [
    {
     "data": {
      "text/plain": [
       "array([[ 1,  4,  9],\n",
       "       [16, 25, 36]], dtype=int32)"
      ]
     },
     "execution_count": 67,
     "metadata": {},
     "output_type": "execute_result"
    }
   ],
   "source": [
    "# 요소에 대해 제곱처리\n",
    "\n",
    "arr1 ** 2"
   ]
  },
  {
   "cell_type": "markdown",
   "id": "severe-cocktail",
   "metadata": {},
   "source": [
    "## 4. Array 인덱싱\n",
    "\n",
    "numpy에서 사용되는 인덱싱은 기본적으로 ptyhon의 list의 인덱싱과 동일하다.<br>\n",
    "이떄, python에서와 같이 1번째로 시작하는 것이 아니라 9번째로 시작하는 것에 주의하자.<br>"
   ]
  },
  {
   "cell_type": "code",
   "execution_count": 69,
   "id": "dressed-reputation",
   "metadata": {},
   "outputs": [
    {
     "data": {
      "text/plain": [
       "array([0, 1, 2, 3, 4, 5, 6, 7, 8, 9])"
      ]
     },
     "execution_count": 69,
     "metadata": {},
     "output_type": "execute_result"
    }
   ],
   "source": [
    "arr1 = np.arange(10)\n",
    "arr1"
   ]
  },
  {
   "cell_type": "code",
   "execution_count": 70,
   "id": "lonely-corpus",
   "metadata": {},
   "outputs": [
    {
     "data": {
      "text/plain": [
       "0"
      ]
     },
     "execution_count": 70,
     "metadata": {},
     "output_type": "execute_result"
    }
   ],
   "source": [
    "# 0번째 요소\n",
    "arr1[0]"
   ]
  },
  {
   "cell_type": "code",
   "execution_count": 74,
   "id": "superb-biotechnology",
   "metadata": {},
   "outputs": [
    {
     "data": {
      "text/plain": [
       "3"
      ]
     },
     "execution_count": 74,
     "metadata": {},
     "output_type": "execute_result"
    }
   ],
   "source": [
    "# 3번째 요소\n",
    "arr1[3]"
   ]
  },
  {
   "cell_type": "code",
   "execution_count": 75,
   "id": "continued-amsterdam",
   "metadata": {},
   "outputs": [
    {
     "data": {
      "text/plain": [
       "array([3, 4, 5, 6, 7, 8])"
      ]
     },
     "execution_count": 75,
     "metadata": {},
     "output_type": "execute_result"
    }
   ],
   "source": [
    "# 3 ~ 8 번쨰 요소\n",
    "arr1[3 : 9]"
   ]
  },
  {
   "cell_type": "code",
   "execution_count": 76,
   "id": "average-prior",
   "metadata": {},
   "outputs": [
    {
     "data": {
      "text/plain": [
       "array([0, 1, 2, 3, 4, 5, 6, 7, 8, 9])"
      ]
     },
     "execution_count": 76,
     "metadata": {},
     "output_type": "execute_result"
    }
   ],
   "source": [
    "arr1[:]"
   ]
  },
  {
   "cell_type": "code",
   "execution_count": 79,
   "id": "empirical-motel",
   "metadata": {},
   "outputs": [
    {
     "data": {
      "text/plain": [
       "(3, 4)"
      ]
     },
     "execution_count": 79,
     "metadata": {},
     "output_type": "execute_result"
    }
   ],
   "source": [
    "arr2 = np.array([[1, 2, 3, 4],\n",
    "               [5, 6, 7, 8],\n",
    "               [9, 10, 11, 12]])\n",
    "arr2\n",
    "arr2.shape"
   ]
  },
  {
   "cell_type": "code",
   "execution_count": 80,
   "id": "entertaining-hungarian",
   "metadata": {},
   "outputs": [
    {
     "data": {
      "text/plain": [
       "1"
      ]
     },
     "execution_count": 80,
     "metadata": {},
     "output_type": "execute_result"
    }
   ],
   "source": [
    "# 2차원의 array에서 인덱싱을 하기 위해선 2개의 인자를 입력해야 한다.\n",
    "arr2[0,0]"
   ]
  },
  {
   "cell_type": "code",
   "execution_count": 81,
   "id": "domestic-keyboard",
   "metadata": {},
   "outputs": [
    {
     "data": {
      "text/plain": [
       "array([ 9, 10, 11, 12])"
      ]
     },
     "execution_count": 81,
     "metadata": {},
     "output_type": "execute_result"
    }
   ],
   "source": [
    "# 2행의 모든 요소 꺼내기\n",
    "arr2[2, :]"
   ]
  },
  {
   "cell_type": "code",
   "execution_count": 83,
   "id": "generic-visiting",
   "metadata": {},
   "outputs": [
    {
     "data": {
      "text/plain": [
       "12"
      ]
     },
     "execution_count": 83,
     "metadata": {},
     "output_type": "execute_result"
    }
   ],
   "source": [
    "# 2행의 3번째 요소 꺼내기\n",
    "arr2[2,3]"
   ]
  },
  {
   "cell_type": "markdown",
   "id": "requested-serial",
   "metadata": {},
   "source": [
    "## 5. Array boolean 인덱싱(마스크)\n",
    "\n",
    "위에서 이용한 다차원의 인덱싱을 응용하여 boolea 인덱싱을 할 수 있다.<br>\n",
    "해당 기능은 두로 마스크라고 이야기하는데, boolean 인덱싱을 통해 만들어낸 array를 통해 우리가 원하는 행 또는 열의 값만 뽑아 낼 수 있다.<br>\n",
    "즉, 마스크처럼 우리가 가리고 싶은 부분은 가리고, 원하는 요소만 꺼낼 수 있다."
   ]
  },
  {
   "cell_type": "code",
   "execution_count": 84,
   "id": "regulation-producer",
   "metadata": {},
   "outputs": [
    {
     "data": {
      "text/plain": [
       "array(['Beone', 'Beone', 'Kim', 'Jain', 'Lee', 'Beone', 'Park', 'Beone'],\n",
       "      dtype='<U5')"
      ]
     },
     "execution_count": 84,
     "metadata": {},
     "output_type": "execute_result"
    }
   ],
   "source": [
    "names = np.array([\"Beone\", \"Beone\", \"Kim\", \"Jain\", \"Lee\", \"Beone\", \"Park\", \"Beone\"])\n",
    "names"
   ]
  },
  {
   "cell_type": "code",
   "execution_count": 85,
   "id": "exempt-france",
   "metadata": {},
   "outputs": [
    {
     "data": {
      "text/plain": [
       "(8,)"
      ]
     },
     "execution_count": 85,
     "metadata": {},
     "output_type": "execute_result"
    }
   ],
   "source": [
    "names.shape"
   ]
  },
  {
   "cell_type": "code",
   "execution_count": 114,
   "id": "earned-elements",
   "metadata": {},
   "outputs": [
    {
     "data": {
      "text/plain": [
       "array([[-0.10977854,  0.16996471,  0.6468282 ,  1.47167685],\n",
       "       [-0.09873998, -0.18453351,  0.67811954, -0.70117531],\n",
       "       [ 1.46199275,  0.62945151,  0.10695515,  0.12304283],\n",
       "       [ 1.09935444,  0.47632718,  1.34152593,  1.51873757],\n",
       "       [ 1.11499741, -1.40881308, -0.30115072, -0.20418537],\n",
       "       [-1.21518816, -0.99901348, -1.04798554,  0.3415326 ],\n",
       "       [-1.80024541, -1.44084224, -0.3601684 ,  0.44708215],\n",
       "       [-0.9587427 , -0.47977107, -0.54848586,  0.57157731]])"
      ]
     },
     "execution_count": 114,
     "metadata": {},
     "output_type": "execute_result"
    }
   ],
   "source": [
    "# 아래에서 사용되는 np.random.randn() 함수는 기대값이 0이고, 표준편차가 1인 기우시안 정규 분포를 따르는 난수를 발생시키는 함수이다.\n",
    "# 이 외에도 0 ~ 1 난수를 발생시키는 np.random.rnad() 함수도 존재한다.\n",
    "\n",
    "data = np.random.randn(8, 4)\n",
    "data\n",
    "# np.mean(data)"
   ]
  },
  {
   "cell_type": "markdown",
   "id": "demonstrated-claim",
   "metadata": {},
   "source": [
    "위와 같은 names와 data라는 array가 있다.<br>\n",
    "이때, names의 각 요소가 data의 각 행과 연결된다고 가정해보자.<br>\n",
    "그리고 이때, names가 Beome인 행의 data만 보고 싶을 때 다음과 같이 마스크를 사용한다."
   ]
  },
  {
   "cell_type": "code",
   "execution_count": 89,
   "id": "welcome-cooperative",
   "metadata": {},
   "outputs": [
    {
     "data": {
      "text/plain": [
       "array([ True,  True, False, False, False,  True, False,  True])"
      ]
     },
     "execution_count": 89,
     "metadata": {},
     "output_type": "execute_result"
    }
   ],
   "source": [
    "# 요소가 Beone인 항목에 대한 mask 생성\n",
    "names_Beone_mask = (names == \"Beone\")\n",
    "names_Beone_mask"
   ]
  },
  {
   "cell_type": "code",
   "execution_count": 105,
   "id": "front-latin",
   "metadata": {},
   "outputs": [
    {
     "data": {
      "text/plain": [
       "array([[-2.09509059,  1.16173166, -0.8410699 ,  0.46556527],\n",
       "       [ 0.23309271, -0.39556709, -2.07824141, -0.60024168],\n",
       "       [-0.0246403 , -1.06541153, -2.37312492, -0.36099102],\n",
       "       [ 0.42993146,  0.52531298,  0.82737663,  0.8050486 ]])"
      ]
     },
     "execution_count": 105,
     "metadata": {},
     "output_type": "execute_result"
    }
   ],
   "source": [
    "# True인 것들만 가져오기(행만 가져옴, 0, 1, 5, 7 행)\n",
    "# 요소가 Beone인 것에 대한 boolean 값을 가지는 mask를 만들었고 마스크 인덱싱을 이용해 data의 0, 1, 5, 7행을 꺼냈다.\n",
    "data[names_Beone_mask, :]"
   ]
  },
  {
   "cell_type": "code",
   "execution_count": 116,
   "id": "desirable-vitamin",
   "metadata": {},
   "outputs": [
    {
     "data": {
      "text/plain": [
       "array([[1.46199275, 0.62945151, 0.10695515, 0.12304283]])"
      ]
     },
     "execution_count": 116,
     "metadata": {},
     "output_type": "execute_result"
    }
   ],
   "source": [
    "#  요소가 Kim인 행의 테이터만 꺼내기\n",
    "data[names == \"Kim\",:]"
   ]
  },
  {
   "cell_type": "code",
   "execution_count": 119,
   "id": "wanted-monday",
   "metadata": {},
   "outputs": [
    {
     "data": {
      "text/plain": [
       "array([[ 1.46199275,  0.62945151,  0.10695515,  0.12304283],\n",
       "       [-1.80024541, -1.44084224, -0.3601684 ,  0.44708215]])"
      ]
     },
     "execution_count": 119,
     "metadata": {},
     "output_type": "execute_result"
    }
   ],
   "source": [
    "# 논리 연산을 응용하여, 요소가 Kim 또는 Park인 행의 데이터만 꺼내기\n",
    "data[(names == \"Kim\") | (names == \"Park\"), :]"
   ]
  },
  {
   "cell_type": "markdown",
   "id": "appointed-boating",
   "metadata": {},
   "source": [
    "물론 data array 자체적으로도 마스크를 만들고, 이를 응용하여 인덱싱이 가능하다.<br>\n",
    "data array에서 0번째 열의 값이 0보다 작은 행을 구해보자."
   ]
  },
  {
   "cell_type": "code",
   "execution_count": 123,
   "id": "excessive-sussex",
   "metadata": {},
   "outputs": [
    {
     "name": "stdout",
     "output_type": "stream",
     "text": [
      "[ True  True False False False  True  True  True]\n",
      "<class 'numpy.ndarray'>\n"
     ]
    }
   ],
   "source": [
    "# 먼저 마스크를 만든다.\n",
    "# data array에서 0번째 열 중에 0보다 작은 요소의 boolaen 값은 다음과 같다.\n",
    "print(data[:, 0] < 0)\n",
    "print(type(data[:, 0] < 0))"
   ]
  },
  {
   "cell_type": "code",
   "execution_count": null,
   "id": "romantic-brief",
   "metadata": {},
   "outputs": [],
   "source": [
    "# 위에서 만든 마스크를 이용하여 0번째 열들의 값이 0보다 작은 행을 구한다."
   ]
  },
  {
   "cell_type": "code",
   "execution_count": 124,
   "id": "instant-ordering",
   "metadata": {},
   "outputs": [
    {
     "data": {
      "text/plain": [
       "array([[-0.10977854,  0.16996471,  0.6468282 ,  1.47167685],\n",
       "       [-0.09873998, -0.18453351,  0.67811954, -0.70117531],\n",
       "       [-1.21518816, -0.99901348, -1.04798554,  0.3415326 ],\n",
       "       [-1.80024541, -1.44084224, -0.3601684 ,  0.44708215],\n",
       "       [-0.9587427 , -0.47977107, -0.54848586,  0.57157731]])"
      ]
     },
     "execution_count": 124,
     "metadata": {},
     "output_type": "execute_result"
    }
   ],
   "source": [
    "data[data[:, 0] < 0, :]"
   ]
  },
  {
   "cell_type": "markdown",
   "id": "growing-threat",
   "metadata": {},
   "source": [
    "이를 통해 특정 위치에만 우리가 원하는 값을 대입할 수 있다.<br>\n",
    "위에서 얻은, 0번째 열의 값이 0보다 작은 해의 2, 3 번째 열값에 0을 대입해보자."
   ]
  },
  {
   "cell_type": "code",
   "execution_count": 125,
   "id": "administrative-phoenix",
   "metadata": {},
   "outputs": [
    {
     "data": {
      "text/plain": [
       "array([[ 0.6468282 ,  1.47167685],\n",
       "       [ 0.67811954, -0.70117531],\n",
       "       [-1.04798554,  0.3415326 ],\n",
       "       [-0.3601684 ,  0.44708215],\n",
       "       [-0.54848586,  0.57157731]])"
      ]
     },
     "execution_count": 125,
     "metadata": {},
     "output_type": "execute_result"
    }
   ],
   "source": [
    "# 0번째 열의 값이 0보다 작은 행의 2, 3번째 열 값\n",
    "data[data[:, 0] < 0, 2:4]"
   ]
  },
  {
   "cell_type": "code",
   "execution_count": 127,
   "id": "widespread-superior",
   "metadata": {},
   "outputs": [
    {
     "data": {
      "text/plain": [
       "array([[-0.10977854,  0.16996471,  0.        ,  0.        ],\n",
       "       [-0.09873998, -0.18453351,  0.        ,  0.        ],\n",
       "       [ 1.46199275,  0.62945151,  0.10695515,  0.12304283],\n",
       "       [ 1.09935444,  0.47632718,  1.34152593,  1.51873757],\n",
       "       [ 1.11499741, -1.40881308, -0.30115072, -0.20418537],\n",
       "       [-1.21518816, -0.99901348,  0.        ,  0.        ],\n",
       "       [-1.80024541, -1.44084224,  0.        ,  0.        ],\n",
       "       [-0.9587427 , -0.47977107,  0.        ,  0.        ]])"
      ]
     },
     "execution_count": 127,
     "metadata": {},
     "output_type": "execute_result"
    }
   ],
   "source": [
    "# 0 대입하기\n",
    "data[data[:, 0] < 0, 2:4] = 0\n",
    "data"
   ]
  },
  {
   "cell_type": "markdown",
   "id": "guilty-table",
   "metadata": {},
   "source": [
    "## 6. Numpy 함수\n",
    "\n",
    "numpy에서는 array에 적용되는 다양한 함수가 있다."
   ]
  },
  {
   "cell_type": "markdown",
   "id": "cloudy-windows",
   "metadata": {},
   "source": [
    "## 6-1. 하나의 array에 적용되는 함수"
   ]
  },
  {
   "cell_type": "code",
   "execution_count": 134,
   "id": "blessed-filter",
   "metadata": {},
   "outputs": [
    {
     "name": "stdout",
     "output_type": "stream",
     "text": [
      "[[-1.5915456   0.83025223  0.87083262]\n",
      " [-0.79594218  1.13041366 -0.58687832]\n",
      " [-0.64756419 -0.47508964 -0.56205639]\n",
      " [-0.49433066 -0.35180414 -2.37478035]\n",
      " [-0.15498931 -0.97071065  1.2305151 ]]\n",
      "\n",
      "[[ 0.1809027  -1.47288709 -0.79726678]\n",
      " [ 1.38351764 -0.34360348  1.34976916]\n",
      " [ 0.9710307   1.0208694   1.58584994]\n",
      " [ 1.82969813  1.25593837  1.45113324]\n",
      " [-0.79981691 -0.14354332 -0.40824508]]\n"
     ]
    }
   ],
   "source": [
    "arr1 = np.random.randn(5, 3)\n",
    "print(arr1)\n",
    "print()\n",
    "\n",
    "# normal(loc, scale, size) / 평균, 편차, 사이즈\n",
    "arr2 = np.random.normal(0, 1, (5, 3))\n",
    "print(arr2)"
   ]
  },
  {
   "cell_type": "code",
   "execution_count": 135,
   "id": "athletic-karen",
   "metadata": {},
   "outputs": [
    {
     "data": {
      "text/plain": [
       "array([[1.5915456 , 0.83025223, 0.87083262],\n",
       "       [0.79594218, 1.13041366, 0.58687832],\n",
       "       [0.64756419, 0.47508964, 0.56205639],\n",
       "       [0.49433066, 0.35180414, 2.37478035],\n",
       "       [0.15498931, 0.97071065, 1.2305151 ]])"
      ]
     },
     "execution_count": 135,
     "metadata": {},
     "output_type": "execute_result"
    }
   ],
   "source": [
    "# 각 성분의 절대값 계산하기\n",
    "np.abs(arr1)"
   ]
  },
  {
   "cell_type": "code",
   "execution_count": 136,
   "id": "manual-entrepreneur",
   "metadata": {},
   "outputs": [
    {
     "name": "stderr",
     "output_type": "stream",
     "text": [
      "<ipython-input-136-4215060b9be2>:2: RuntimeWarning: invalid value encountered in sqrt\n",
      "  np.sqrt(arr1)\n"
     ]
    },
    {
     "data": {
      "text/plain": [
       "array([[       nan, 0.91118178, 0.93318413],\n",
       "       [       nan, 1.06320913,        nan],\n",
       "       [       nan,        nan,        nan],\n",
       "       [       nan,        nan,        nan],\n",
       "       [       nan,        nan, 1.10928585]])"
      ]
     },
     "execution_count": 136,
     "metadata": {},
     "output_type": "execute_result"
    }
   ],
   "source": [
    "# 각 성분의 제곱근 계산하기( == array ** 0.5), 음수일 경우 null(허수이기 때문)\n",
    "np.sqrt(arr1)"
   ]
  },
  {
   "cell_type": "code",
   "execution_count": 139,
   "id": "mental-diesel",
   "metadata": {},
   "outputs": [
    {
     "name": "stdout",
     "output_type": "stream",
     "text": [
      "[[2.53301739 0.68931877 0.75834946]\n",
      " [0.63352395 1.27783505 0.34442617]\n",
      " [0.41933938 0.22571017 0.31590738]\n",
      " [0.2443628  0.12376615 5.63958173]\n",
      " [0.02402169 0.94227916 1.51416741]]\n",
      "\n",
      "[[2.53301739 0.68931877 0.75834946]\n",
      " [0.63352395 1.27783505 0.34442617]\n",
      " [0.41933938 0.22571017 0.31590738]\n",
      " [0.2443628  0.12376615 5.63958173]\n",
      " [0.02402169 0.94227916 1.51416741]]\n"
     ]
    }
   ],
   "source": [
    "# 각 성분의 제곱 계산하기\n",
    "print(np.square(arr1))\n",
    "print()\n",
    "print(arr1 ** 2)"
   ]
  },
  {
   "cell_type": "code",
   "execution_count": 140,
   "id": "incorporate-rating",
   "metadata": {},
   "outputs": [
    {
     "data": {
      "text/plain": [
       "array([[0.20361067, 2.29389726, 2.38889908],\n",
       "       [0.45115596, 3.09693733, 0.55606042],\n",
       "       [0.52331893, 0.62182931, 0.57003564],\n",
       "       [0.60997905, 0.70341788, 0.09303492],\n",
       "       [0.85642434, 0.37881374, 3.42299226]])"
      ]
     },
     "execution_count": 140,
     "metadata": {},
     "output_type": "execute_result"
    }
   ],
   "source": [
    "# 각 성분을 무리수 e의 지수로 삼은 값 계산하기(익스퍼낸셜)\n",
    "np.exp(arr1)"
   ]
  },
  {
   "cell_type": "code",
   "execution_count": 141,
   "id": "daily-silicon",
   "metadata": {},
   "outputs": [
    {
     "name": "stderr",
     "output_type": "stream",
     "text": [
      "<ipython-input-141-bddc4320f0c3>:2: RuntimeWarning: invalid value encountered in log\n",
      "  np.log(arr1)\n"
     ]
    },
    {
     "data": {
      "text/plain": [
       "array([[        nan, -0.18602573, -0.13830549],\n",
       "       [        nan,  0.12258364,         nan],\n",
       "       [        nan,         nan,         nan],\n",
       "       [        nan,         nan,         nan],\n",
       "       [        nan,         nan,  0.20743286]])"
      ]
     },
     "execution_count": 141,
     "metadata": {},
     "output_type": "execute_result"
    }
   ],
   "source": [
    "# 각 성분을 자연로그, 상용로그, 밑이 2인 로그를 씌운 값을 계산하기(음수는 null)\n",
    "# 자연로그\n",
    "np.log(arr1)"
   ]
  },
  {
   "cell_type": "code",
   "execution_count": 142,
   "id": "musical-timeline",
   "metadata": {},
   "outputs": [
    {
     "name": "stderr",
     "output_type": "stream",
     "text": [
      "<ipython-input-142-1d9686adbff8>:2: RuntimeWarning: invalid value encountered in log10\n",
      "  np.log10(arr1)\n"
     ]
    },
    {
     "data": {
      "text/plain": [
       "array([[        nan, -0.08078995, -0.06006531],\n",
       "       [        nan,  0.0532374 ,         nan],\n",
       "       [        nan,         nan,         nan],\n",
       "       [        nan,         nan,         nan],\n",
       "       [        nan,         nan,  0.09008695]])"
      ]
     },
     "execution_count": 142,
     "metadata": {},
     "output_type": "execute_result"
    }
   ],
   "source": [
    "# 상용로그\n",
    "np.log10(arr1)"
   ]
  },
  {
   "cell_type": "code",
   "execution_count": 143,
   "id": "roman-morris",
   "metadata": {},
   "outputs": [
    {
     "name": "stderr",
     "output_type": "stream",
     "text": [
      "<ipython-input-143-3d3b7fd7a7e7>:2: RuntimeWarning: invalid value encountered in log2\n",
      "  np.log2(arr1)\n"
     ]
    },
    {
     "data": {
      "text/plain": [
       "array([[        nan, -0.2683784 , -0.19953264],\n",
       "       [        nan,  0.17685081,         nan],\n",
       "       [        nan,         nan,         nan],\n",
       "       [        nan,         nan,         nan],\n",
       "       [        nan,         nan,  0.29926236]])"
      ]
     },
     "execution_count": 143,
     "metadata": {},
     "output_type": "execute_result"
    }
   ],
   "source": [
    "# 밑이 2\n",
    "np.log2(arr1)"
   ]
  },
  {
   "cell_type": "code",
   "execution_count": 144,
   "id": "demanding-tracy",
   "metadata": {},
   "outputs": [
    {
     "data": {
      "text/plain": [
       "array([[-1.,  1.,  1.],\n",
       "       [-1.,  1., -1.],\n",
       "       [-1., -1., -1.],\n",
       "       [-1., -1., -1.],\n",
       "       [-1., -1.,  1.]])"
      ]
     },
     "execution_count": 144,
     "metadata": {},
     "output_type": "execute_result"
    }
   ],
   "source": [
    "#각 성분의 부호 계산하기(+ = 1, - = -1, 0 = 0)\n",
    "np.sign(arr1)"
   ]
  },
  {
   "cell_type": "code",
   "execution_count": 145,
   "id": "radio-imagination",
   "metadata": {},
   "outputs": [
    {
     "data": {
      "text/plain": [
       "array([[-1.,  1.,  1.],\n",
       "       [-0.,  2., -0.],\n",
       "       [-0., -0., -0.],\n",
       "       [-0., -0., -2.],\n",
       "       [-0., -0.,  2.]])"
      ]
     },
     "execution_count": 145,
     "metadata": {},
     "output_type": "execute_result"
    }
   ],
   "source": [
    "# 각 성분의 소수 첫번째 자리에서 올림한 값 계산\n",
    "np.ceil(arr1)"
   ]
  },
  {
   "cell_type": "code",
   "execution_count": 146,
   "id": "national-bacon",
   "metadata": {},
   "outputs": [
    {
     "data": {
      "text/plain": [
       "array([[-2.,  0.,  0.],\n",
       "       [-1.,  1., -1.],\n",
       "       [-1., -1., -1.],\n",
       "       [-1., -1., -3.],\n",
       "       [-1., -1.,  1.]])"
      ]
     },
     "execution_count": 146,
     "metadata": {},
     "output_type": "execute_result"
    }
   ],
   "source": [
    "# 각 성분의 소수 첫번째 자리에서 내림한 값 계산\n",
    "np.floor(arr1)"
   ]
  },
  {
   "cell_type": "code",
   "execution_count": 148,
   "id": "convenient-jonathan",
   "metadata": {},
   "outputs": [
    {
     "name": "stderr",
     "output_type": "stream",
     "text": [
      "<ipython-input-148-cbec034f80a3>:2: RuntimeWarning: invalid value encountered in log10\n",
      "  np.isnan(np.log10(arr1))\n"
     ]
    },
    {
     "data": {
      "text/plain": [
       "array([[ True, False, False],\n",
       "       [ True, False,  True],\n",
       "       [ True,  True,  True],\n",
       "       [ True,  True,  True],\n",
       "       [ True,  True, False]])"
      ]
     },
     "execution_count": 148,
     "metadata": {},
     "output_type": "execute_result"
    }
   ],
   "source": [
    "# 각 성분이 NaN인 경우 True를, 아닌 경우 False 반환\n",
    "np.isnan(np.log10(arr1))"
   ]
  },
  {
   "cell_type": "code",
   "execution_count": 150,
   "id": "occasional-minnesota",
   "metadata": {},
   "outputs": [
    {
     "data": {
      "text/plain": [
       "array([[False, False, False],\n",
       "       [False, False, False],\n",
       "       [False, False, False],\n",
       "       [False, False, False],\n",
       "       [False, False, False]])"
      ]
     },
     "execution_count": 150,
     "metadata": {},
     "output_type": "execute_result"
    }
   ],
   "source": [
    "# 각 성분이 무한대인 경우 True, 아닌 경우 Faluse 반환\n",
    "np.isinf(arr1)"
   ]
  },
  {
   "cell_type": "code",
   "execution_count": null,
   "id": "russian-productivity",
   "metadata": {},
   "outputs": [],
   "source": [
    "# 각 성분에 대해 삼각함수 계산하기\n",
    "#(cos, cosh, sin, sinh, tan, tanh)"
   ]
  },
  {
   "cell_type": "code",
   "execution_count": 151,
   "id": "developed-petroleum",
   "metadata": {},
   "outputs": [
    {
     "data": {
      "text/plain": [
       "array([[-0.02074778,  0.67468961,  0.64418993],\n",
       "       [ 0.69961187,  0.42628565,  0.83267341],\n",
       "       [ 0.79755556,  0.88925172,  0.84616099],\n",
       "       [ 0.88028647,  0.93875255, -0.72012609],\n",
       "       [ 0.98801318,  0.56471319,  0.33375221]])"
      ]
     },
     "execution_count": 151,
     "metadata": {},
     "output_type": "execute_result"
    }
   ],
   "source": [
    "# cos\n",
    "np.cos(arr1)"
   ]
  },
  {
   "cell_type": "code",
   "execution_count": 152,
   "id": "simple-cigarette",
   "metadata": {},
   "outputs": [
    {
     "data": {
      "text/plain": [
       "array([[-0.92038597,  0.68061142,  0.70179692],\n",
       "       [-0.66176211,  0.81116079, -0.52764675],\n",
       "       [-0.57002791, -0.44230246, -0.50950159],\n",
       "       [-0.45764685, -0.33797458, -0.98283756],\n",
       "       [-0.15376008, -0.74901641,  0.84272867]])"
      ]
     },
     "execution_count": 152,
     "metadata": {},
     "output_type": "execute_result"
    }
   ],
   "source": [
    "# tanh\n",
    "np.tanh(arr1)"
   ]
  },
  {
   "cell_type": "markdown",
   "id": "above-butler",
   "metadata": {},
   "source": [
    "## 6-2. 두 개의 array에 적용되는 함수"
   ]
  },
  {
   "cell_type": "code",
   "execution_count": 153,
   "id": "fancy-muscle",
   "metadata": {},
   "outputs": [
    {
     "data": {
      "text/plain": [
       "array([[-1.5915456 ,  0.83025223,  0.87083262],\n",
       "       [-0.79594218,  1.13041366, -0.58687832],\n",
       "       [-0.64756419, -0.47508964, -0.56205639],\n",
       "       [-0.49433066, -0.35180414, -2.37478035],\n",
       "       [-0.15498931, -0.97071065,  1.2305151 ]])"
      ]
     },
     "execution_count": 153,
     "metadata": {},
     "output_type": "execute_result"
    }
   ],
   "source": [
    "arr1"
   ]
  },
  {
   "cell_type": "code",
   "execution_count": 154,
   "id": "living-checkout",
   "metadata": {},
   "outputs": [
    {
     "data": {
      "text/plain": [
       "array([[-0.44588557, -1.82439753, -0.92340503],\n",
       "       [ 0.55509073,  0.28541853, -0.43006098],\n",
       "       [-1.25092242, -1.20262172,  0.52177735],\n",
       "       [-0.09439255, -0.35771503, -1.06818107],\n",
       "       [-0.70365893,  0.01447041,  0.18907634]])"
      ]
     },
     "execution_count": 154,
     "metadata": {},
     "output_type": "execute_result"
    }
   ],
   "source": [
    "arr2 = np.random.randn(5, 3)\n",
    "arr2"
   ]
  },
  {
   "cell_type": "code",
   "execution_count": 159,
   "id": "brutal-introduction",
   "metadata": {},
   "outputs": [
    {
     "data": {
      "text/plain": [
       "array([[  3.5694037 ,  -0.45508296,  -0.9430668 ],\n",
       "       [ -1.43389565,   3.96054753,   1.36463979],\n",
       "       [  0.51766934,   0.39504495,  -1.07719584],\n",
       "       [  5.2369669 ,   0.98347597,   2.22320018],\n",
       "       [  0.22026198, -67.08247413,   6.5080331 ]])"
      ]
     },
     "execution_count": 159,
     "metadata": {},
     "output_type": "execute_result"
    }
   ],
   "source": [
    "# 두 개의 array에 대해 동일한 위치의 성분끼리 연산한 값을 계산하기\n",
    "# (add, subtract, multiply, divide)\n",
    "np.multiply(arr1, arr2) # == arr1 * arr2\n",
    "np.add(arr1, arr2) # == arr1 + arr2\n",
    "np.subtract(arr1, arr2) # == arr1 - arr2\n",
    "np.divide(arr1, arr2) # == arr1 / arr2"
   ]
  },
  {
   "cell_type": "code",
   "execution_count": 160,
   "id": "sought-might",
   "metadata": {},
   "outputs": [
    {
     "data": {
      "text/plain": [
       "array([[-0.44588557,  0.83025223,  0.87083262],\n",
       "       [ 0.55509073,  1.13041366, -0.43006098],\n",
       "       [-0.64756419, -0.47508964,  0.52177735],\n",
       "       [-0.09439255, -0.35180414, -1.06818107],\n",
       "       [-0.15498931,  0.01447041,  1.2305151 ]])"
      ]
     },
     "execution_count": 160,
     "metadata": {},
     "output_type": "execute_result"
    }
   ],
   "source": [
    "# 두 개의 array에 대해 동일한 위치의 성분끼리 비교하여 최대값 또는 최소값 계산하기(maximum, minimum)\n",
    "np.maximum(arr1, arr2)"
   ]
  },
  {
   "cell_type": "markdown",
   "id": "miniature-batman",
   "metadata": {},
   "source": [
    "## 6-3. 통계 함수\n",
    "\n",
    "통계 함수를 통해 array의 합이나 평균 등을 구할 때,<br>\n",
    "추가로 axis라는 인자에 대한 값을 지정하여 열 또는 행의 합 또는 평균 등을 구할 수 있다."
   ]
  },
  {
   "cell_type": "code",
   "execution_count": 161,
   "id": "crazy-seller",
   "metadata": {},
   "outputs": [
    {
     "data": {
      "text/plain": [
       "array([[-1.5915456 ,  0.83025223,  0.87083262],\n",
       "       [-0.79594218,  1.13041366, -0.58687832],\n",
       "       [-0.64756419, -0.47508964, -0.56205639],\n",
       "       [-0.49433066, -0.35180414, -2.37478035],\n",
       "       [-0.15498931, -0.97071065,  1.2305151 ]])"
      ]
     },
     "execution_count": 161,
     "metadata": {},
     "output_type": "execute_result"
    }
   ],
   "source": [
    "arr1"
   ]
  },
  {
   "cell_type": "code",
   "execution_count": 162,
   "id": "swiss-greek",
   "metadata": {},
   "outputs": [
    {
     "data": {
      "text/plain": [
       "-4.943677804326331"
      ]
     },
     "execution_count": 162,
     "metadata": {},
     "output_type": "execute_result"
    }
   ],
   "source": [
    "# 전체 성분의 합을 계산\n",
    "np.sum(arr1)"
   ]
  },
  {
   "cell_type": "code",
   "execution_count": 168,
   "id": "unlikely-gibson",
   "metadata": {},
   "outputs": [
    {
     "data": {
      "text/plain": [
       "array([-3.68437193,  0.16306147, -1.42236734])"
      ]
     },
     "execution_count": 168,
     "metadata": {},
     "output_type": "execute_result"
    }
   ],
   "source": [
    "# 열 간의 합을 계산\n",
    "np.sum(arr1, axis=0)"
   ]
  },
  {
   "cell_type": "code",
   "execution_count": 164,
   "id": "passive-jungle",
   "metadata": {},
   "outputs": [
    {
     "data": {
      "text/plain": [
       "-0.32957852028842205"
      ]
     },
     "execution_count": 164,
     "metadata": {},
     "output_type": "execute_result"
    }
   ],
   "source": [
    "# 전체 성분의 평균을 계산\n",
    "np.mean(arr1)"
   ]
  },
  {
   "cell_type": "code",
   "execution_count": 9,
   "id": "after-performer",
   "metadata": {},
   "outputs": [],
   "source": [
    "aaa = np.array([[1, 1, 1], [2, 2, 2], [3, 3, 3]])"
   ]
  },
  {
   "cell_type": "code",
   "execution_count": 10,
   "id": "distant-maintenance",
   "metadata": {},
   "outputs": [
    {
     "data": {
      "text/plain": [
       "array([1., 2., 3.])"
      ]
     },
     "execution_count": 10,
     "metadata": {},
     "output_type": "execute_result"
    }
   ],
   "source": [
    "# 행 간의 평균을 계산\n",
    "np.mean(aaa, axis=1)"
   ]
  },
  {
   "cell_type": "code",
   "execution_count": 166,
   "id": "compact-cause",
   "metadata": {},
   "outputs": [],
   "source": [
    "# 전체 성분의 표준편차, 분산, 최소값, 최대값 계산(std, var, min, max)"
   ]
  },
  {
   "cell_type": "code",
   "execution_count": 169,
   "id": "numeric-intranet",
   "metadata": {},
   "outputs": [
    {
     "data": {
      "text/plain": [
       "0.9680315638933659"
      ]
     },
     "execution_count": 169,
     "metadata": {},
     "output_type": "execute_result"
    }
   ],
   "source": [
    "# 표준편차\n",
    "np.std(arr1)"
   ]
  },
  {
   "cell_type": "code",
   "execution_count": 170,
   "id": "pleased-sheep",
   "metadata": {},
   "outputs": [
    {
     "data": {
      "text/plain": [
       "array([-1.5915456 , -0.79594218, -0.64756419, -2.37478035, -0.97071065])"
      ]
     },
     "execution_count": 170,
     "metadata": {},
     "output_type": "execute_result"
    }
   ],
   "source": [
    "np.min(arr1, axis=1)"
   ]
  },
  {
   "cell_type": "code",
   "execution_count": 171,
   "id": "refined-commitment",
   "metadata": {},
   "outputs": [
    {
     "data": {
      "text/plain": [
       "11"
      ]
     },
     "execution_count": 171,
     "metadata": {},
     "output_type": "execute_result"
    }
   ],
   "source": [
    "# 전체 성분의 최소값, 최대값이 위치한 인덱스를 반환(argmin, argmax)\n",
    "np.argmin(arr1)"
   ]
  },
  {
   "cell_type": "code",
   "execution_count": 173,
   "id": "limited-dubai",
   "metadata": {},
   "outputs": [
    {
     "data": {
      "text/plain": [
       "14"
      ]
     },
     "execution_count": 173,
     "metadata": {},
     "output_type": "execute_result"
    }
   ],
   "source": [
    "np.argmax(arr1)"
   ]
  },
  {
   "cell_type": "code",
   "execution_count": 174,
   "id": "judicial-slave",
   "metadata": {},
   "outputs": [
    {
     "data": {
      "text/plain": [
       "array([4, 1, 4], dtype=int64)"
      ]
     },
     "execution_count": 174,
     "metadata": {},
     "output_type": "execute_result"
    }
   ],
   "source": [
    "np.argmax(arr1, axis=0)"
   ]
  },
  {
   "cell_type": "code",
   "execution_count": 175,
   "id": "proved-vitamin",
   "metadata": {},
   "outputs": [
    {
     "data": {
      "text/plain": [
       "array([-1.5915456 , -0.76129336,  0.10953926, -0.68640292,  0.44401074,\n",
       "       -0.14286758, -0.79043177, -1.26552141, -1.8275778 , -2.32190846,\n",
       "       -2.6737126 , -5.04849295, -5.20348226, -6.1741929 , -4.9436778 ])"
      ]
     },
     "execution_count": 175,
     "metadata": {},
     "output_type": "execute_result"
    }
   ],
   "source": [
    "# 맨 처음 성분부터 가 성분까지의 누적합 또는 누적곱을 계산(cumsum, cumprod)\n",
    "np.cumsum(arr1)"
   ]
  },
  {
   "cell_type": "code",
   "execution_count": 176,
   "id": "fourth-cooperation",
   "metadata": {},
   "outputs": [
    {
     "data": {
      "text/plain": [
       "array([-1.5915456 , -1.32138429, -1.15070454,  0.91589428,  1.03533941,\n",
       "       -0.60761826,  0.39347182, -0.18693439,  0.10506767, -0.05193817,\n",
       "        0.01827206, -0.04339214,  0.00672532, -0.00652834, -0.00803322])"
      ]
     },
     "execution_count": 176,
     "metadata": {},
     "output_type": "execute_result"
    }
   ],
   "source": [
    "np.cumprod(arr1)"
   ]
  },
  {
   "cell_type": "markdown",
   "id": "english-cable",
   "metadata": {},
   "source": [
    "## 6-4. 기타 함수\n",
    "\n"
   ]
  },
  {
   "cell_type": "code",
   "execution_count": 177,
   "id": "fifty-recipe",
   "metadata": {},
   "outputs": [
    {
     "data": {
      "text/plain": [
       "array([[-1.5915456 ,  0.83025223,  0.87083262],\n",
       "       [-0.79594218,  1.13041366, -0.58687832],\n",
       "       [-0.64756419, -0.47508964, -0.56205639],\n",
       "       [-0.49433066, -0.35180414, -2.37478035],\n",
       "       [-0.15498931, -0.97071065,  1.2305151 ]])"
      ]
     },
     "execution_count": 177,
     "metadata": {},
     "output_type": "execute_result"
    }
   ],
   "source": [
    "arr1"
   ]
  },
  {
   "cell_type": "code",
   "execution_count": 178,
   "id": "complimentary-process",
   "metadata": {},
   "outputs": [
    {
     "data": {
      "text/plain": [
       "array([[-1.5915456 ,  0.83025223,  0.87083262],\n",
       "       [-0.79594218, -0.58687832,  1.13041366],\n",
       "       [-0.64756419, -0.56205639, -0.47508964],\n",
       "       [-2.37478035, -0.49433066, -0.35180414],\n",
       "       [-0.97071065, -0.15498931,  1.2305151 ]])"
      ]
     },
     "execution_count": 178,
     "metadata": {},
     "output_type": "execute_result"
    }
   ],
   "source": [
    "# 전체 성분에 대해서 오름차순으로 정렬\n",
    "np.sort(arr1)"
   ]
  },
  {
   "cell_type": "code",
   "execution_count": 179,
   "id": "smaller-orbit",
   "metadata": {},
   "outputs": [
    {
     "data": {
      "text/plain": [
       "array([[-0.97071065, -0.15498931,  1.2305151 ],\n",
       "       [-2.37478035, -0.49433066, -0.35180414],\n",
       "       [-0.64756419, -0.56205639, -0.47508964],\n",
       "       [-0.79594218, -0.58687832,  1.13041366],\n",
       "       [-1.5915456 ,  0.83025223,  0.87083262]])"
      ]
     },
     "execution_count": 179,
     "metadata": {},
     "output_type": "execute_result"
    }
   ],
   "source": [
    "# 전체 성분에 대해서 내림차순으로 정렬\n",
    "np.sort(arr1)[::-1]"
   ]
  },
  {
   "cell_type": "code",
   "execution_count": 12,
   "id": "advanced-employer",
   "metadata": {},
   "outputs": [
    {
     "data": {
      "text/plain": [
       "array([[1, 2, 3],\n",
       "       [4, 5, 6]])"
      ]
     },
     "execution_count": 12,
     "metadata": {},
     "output_type": "execute_result"
    }
   ],
   "source": [
    "# 행 반향으로 오름차순으로 정렬(axis = 1(행) / axis = 0(열))\n",
    "np.sort(arr1, axis=1)"
   ]
  }
 ],
 "metadata": {
  "kernelspec": {
   "display_name": "Python 3",
   "language": "python",
   "name": "python3"
  },
  "language_info": {
   "codemirror_mode": {
    "name": "ipython",
    "version": 3
   },
   "file_extension": ".py",
   "mimetype": "text/x-python",
   "name": "python",
   "nbconvert_exporter": "python",
   "pygments_lexer": "ipython3",
   "version": "3.8.8"
  }
 },
 "nbformat": 4,
 "nbformat_minor": 5
}
